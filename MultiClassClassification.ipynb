{
  "nbformat": 4,
  "nbformat_minor": 0,
  "metadata": {
    "colab": {
      "provenance": [],
      "mount_file_id": "1tk7j6bk3MkuaVRt8BwgDZHiX3f-ymgay",
      "authorship_tag": "ABX9TyOGFVQnCcHuCl/nYkxN6LGB",
      "include_colab_link": true
    },
    "kernelspec": {
      "name": "python3",
      "display_name": "Python 3"
    },
    "language_info": {
      "name": "python"
    }
  },
  "cells": [
    {
      "cell_type": "markdown",
      "metadata": {
        "id": "view-in-github",
        "colab_type": "text"
      },
      "source": [
        "<a href=\"https://colab.research.google.com/github/SahasraKrishna/Book-Management/blob/master/MultiClassClassification.ipynb\" target=\"_parent\"><img src=\"https://colab.research.google.com/assets/colab-badge.svg\" alt=\"Open In Colab\"/></a>"
      ]
    },
    {
      "cell_type": "code",
      "execution_count": 24,
      "metadata": {
        "colab": {
          "base_uri": "https://localhost:8080/"
        },
        "collapsed": true,
        "id": "-rdDam9LHE8u",
        "outputId": "8204d1c9-b8bb-4e35-dea4-dfb7883a5fd4"
      },
      "outputs": [
        {
          "output_type": "stream",
          "name": "stdout",
          "text": [
            "Requirement already satisfied: nltk in /usr/local/lib/python3.12/dist-packages (3.9.1)\n",
            "Requirement already satisfied: scikit-learn in /usr/local/lib/python3.12/dist-packages (1.6.1)\n",
            "Requirement already satisfied: matplotlib in /usr/local/lib/python3.12/dist-packages (3.10.0)\n",
            "Requirement already satisfied: seaborn in /usr/local/lib/python3.12/dist-packages (0.13.2)\n",
            "Requirement already satisfied: xgboost in /usr/local/lib/python3.12/dist-packages (3.0.5)\n",
            "Requirement already satisfied: click in /usr/local/lib/python3.12/dist-packages (from nltk) (8.2.1)\n",
            "Requirement already satisfied: joblib in /usr/local/lib/python3.12/dist-packages (from nltk) (1.5.2)\n",
            "Requirement already satisfied: regex>=2021.8.3 in /usr/local/lib/python3.12/dist-packages (from nltk) (2024.11.6)\n",
            "Requirement already satisfied: tqdm in /usr/local/lib/python3.12/dist-packages (from nltk) (4.67.1)\n",
            "Requirement already satisfied: numpy>=1.19.5 in /usr/local/lib/python3.12/dist-packages (from scikit-learn) (2.0.2)\n",
            "Requirement already satisfied: scipy>=1.6.0 in /usr/local/lib/python3.12/dist-packages (from scikit-learn) (1.16.2)\n",
            "Requirement already satisfied: threadpoolctl>=3.1.0 in /usr/local/lib/python3.12/dist-packages (from scikit-learn) (3.6.0)\n",
            "Requirement already satisfied: contourpy>=1.0.1 in /usr/local/lib/python3.12/dist-packages (from matplotlib) (1.3.3)\n",
            "Requirement already satisfied: cycler>=0.10 in /usr/local/lib/python3.12/dist-packages (from matplotlib) (0.12.1)\n",
            "Requirement already satisfied: fonttools>=4.22.0 in /usr/local/lib/python3.12/dist-packages (from matplotlib) (4.60.0)\n",
            "Requirement already satisfied: kiwisolver>=1.3.1 in /usr/local/lib/python3.12/dist-packages (from matplotlib) (1.4.9)\n",
            "Requirement already satisfied: packaging>=20.0 in /usr/local/lib/python3.12/dist-packages (from matplotlib) (25.0)\n",
            "Requirement already satisfied: pillow>=8 in /usr/local/lib/python3.12/dist-packages (from matplotlib) (11.3.0)\n",
            "Requirement already satisfied: pyparsing>=2.3.1 in /usr/local/lib/python3.12/dist-packages (from matplotlib) (3.2.4)\n",
            "Requirement already satisfied: python-dateutil>=2.7 in /usr/local/lib/python3.12/dist-packages (from matplotlib) (2.9.0.post0)\n",
            "Requirement already satisfied: pandas>=1.2 in /usr/local/lib/python3.12/dist-packages (from seaborn) (2.2.2)\n",
            "Requirement already satisfied: nvidia-nccl-cu12 in /usr/local/lib/python3.12/dist-packages (from xgboost) (2.27.3)\n",
            "Requirement already satisfied: pytz>=2020.1 in /usr/local/lib/python3.12/dist-packages (from pandas>=1.2->seaborn) (2025.2)\n",
            "Requirement already satisfied: tzdata>=2022.7 in /usr/local/lib/python3.12/dist-packages (from pandas>=1.2->seaborn) (2025.2)\n",
            "Requirement already satisfied: six>=1.5 in /usr/local/lib/python3.12/dist-packages (from python-dateutil>=2.7->matplotlib) (1.17.0)\n"
          ]
        },
        {
          "output_type": "stream",
          "name": "stderr",
          "text": [
            "[nltk_data] Downloading package stopwords to /root/nltk_data...\n",
            "[nltk_data]   Package stopwords is already up-to-date!\n",
            "[nltk_data] Downloading package wordnet to /root/nltk_data...\n",
            "[nltk_data]   Package wordnet is already up-to-date!\n"
          ]
        },
        {
          "output_type": "execute_result",
          "data": {
            "text/plain": [
              "True"
            ]
          },
          "metadata": {},
          "execution_count": 24
        }
      ],
      "source": [
        "# Install extra packages if needed\n",
        "!pip install nltk scikit-learn matplotlib seaborn xgboost\n",
        "\n",
        "# Import libraries\n",
        "import pandas as pd\n",
        "import numpy as np\n",
        "import matplotlib.pyplot as plt\n",
        "import seaborn as sns\n",
        "import re\n",
        "import nltk\n",
        "from nltk.corpus import stopwords\n",
        "from nltk.stem import WordNetLemmatizer\n",
        "from sklearn.model_selection import train_test_split\n",
        "from sklearn.feature_extraction.text import TfidfVectorizer\n",
        "from sklearn.linear_model import LogisticRegression\n",
        "from sklearn.ensemble import RandomForestClassifier\n",
        "from sklearn.svm import SVC\n",
        "from sklearn.metrics import classification_report, confusion_matrix\n",
        "\n",
        "# NLTK downloads\n",
        "nltk.download('stopwords')\n",
        "nltk.download('wordnet')\n"
      ]
    },
    {
      "cell_type": "code",
      "source": [
        "!pip install dask\n"
      ],
      "metadata": {
        "colab": {
          "base_uri": "https://localhost:8080/"
        },
        "id": "gfEvz0cvH8WN",
        "outputId": "aa86d742-bf52-44f8-c5fb-59a8eca0f2b9"
      },
      "execution_count": 4,
      "outputs": [
        {
          "output_type": "stream",
          "name": "stdout",
          "text": [
            "Requirement already satisfied: dask in /usr/local/lib/python3.12/dist-packages (2025.5.0)\n",
            "Requirement already satisfied: click>=8.1 in /usr/local/lib/python3.12/dist-packages (from dask) (8.2.1)\n",
            "Requirement already satisfied: cloudpickle>=3.0.0 in /usr/local/lib/python3.12/dist-packages (from dask) (3.1.1)\n",
            "Requirement already satisfied: fsspec>=2021.09.0 in /usr/local/lib/python3.12/dist-packages (from dask) (2025.3.0)\n",
            "Requirement already satisfied: packaging>=20.0 in /usr/local/lib/python3.12/dist-packages (from dask) (25.0)\n",
            "Requirement already satisfied: partd>=1.4.0 in /usr/local/lib/python3.12/dist-packages (from dask) (1.4.2)\n",
            "Requirement already satisfied: pyyaml>=5.3.1 in /usr/local/lib/python3.12/dist-packages (from dask) (6.0.2)\n",
            "Requirement already satisfied: toolz>=0.10.0 in /usr/local/lib/python3.12/dist-packages (from dask) (0.12.1)\n",
            "Requirement already satisfied: locket in /usr/local/lib/python3.12/dist-packages (from partd>=1.4.0->dask) (1.0.0)\n"
          ]
        }
      ]
    },
    {
      "cell_type": "code",
      "source": [
        "# URL of the CSV file\n",
        "url = \"/content/complaints-2025-09-28_08_42.csv\"  # Replace with actual CSV link\n",
        "\n",
        "# Load CSV into pandas dataframe\n",
        "df = pd.read_csv(url)\n",
        "\n",
        "# Inspect the dataset\n",
        "print(df.head())\n",
        "print(df.info())\n",
        "\n"
      ],
      "metadata": {
        "colab": {
          "base_uri": "https://localhost:8080/"
        },
        "id": "SOJSSFS4tz70",
        "outputId": "f5fde51c-f660-4919-b2a5-8f1f69dd299b"
      },
      "execution_count": 50,
      "outputs": [
        {
          "output_type": "stream",
          "name": "stdout",
          "text": [
            "  Date received                    Product      Sub-product  \\\n",
            "0      07/24/25  Debt or credit management  Debt settlement   \n",
            "1      09/13/16                Payday loan              NaN   \n",
            "2      01/17/24  Debt or credit management  Debt settlement   \n",
            "3      05/27/15                Payday loan              NaN   \n",
            "4      12/17/15                Payday loan              NaN   \n",
            "\n",
            "                                      Issue  Sub-issue  \\\n",
            "0       Unauthorized withdrawals or charges        NaN   \n",
            "1  Charged fees or interest I didn't expect        NaN   \n",
            "2          Didn't provide services promised        NaN   \n",
            "3        Can't stop charges to bank account        NaN   \n",
            "4        Can't stop charges to bank account        NaN   \n",
            "\n",
            "                        Consumer complaint narrative  \\\n",
            "0                                                NaN   \n",
            "1                                                NaN   \n",
            "2  On XX/XX/XXXX XXXX XXXX  I made a debt settlem...   \n",
            "3                                                NaN   \n",
            "4  On Wednesday, XXXX XXXX, 2015, I agreed to a s...   \n",
            "\n",
            "                             Company public response  \\\n",
            "0                                                NaN   \n",
            "1  Company has responded to the consumer and the ...   \n",
            "2  Company believes the complaint is the result o...   \n",
            "3  Company believes it acted appropriately as aut...   \n",
            "4  Company believes the complaint is the result o...   \n",
            "\n",
            "                              Company State ZIP code            Tags  \\\n",
            "0        Clarity Debt Resolution, Inc    TX    76063             NaN   \n",
            "1               WELLS FARGO & COMPANY    FL    33026  Older American   \n",
            "2  Elite Financial Services, Inc (MA)    NY    132XX             NaN   \n",
            "3                      CASHCALL, INC.    VA    23231             NaN   \n",
            "4           ENOVA INTERNATIONAL, INC.    TX    75237             NaN   \n",
            "\n",
            "  Consumer consent provided? Submitted via Date sent to company  \\\n",
            "0                        NaN           Web             08/01/25   \n",
            "1       Consent not provided           Web             09/15/16   \n",
            "2           Consent provided           Web             01/17/24   \n",
            "3       Consent not provided           Web             06/01/15   \n",
            "4           Consent provided           Web             12/17/15   \n",
            "\n",
            "  Company response to consumer Timely response? Consumer disputed?  \\\n",
            "0      Closed with explanation              Yes                NaN   \n",
            "1      Closed with explanation              Yes                 No   \n",
            "2      Closed with explanation               No                NaN   \n",
            "3      Closed with explanation              Yes                Yes   \n",
            "4      Closed with explanation              Yes                 No   \n",
            "\n",
            "   Complaint ID  \n",
            "0      14856720  \n",
            "1       2110195  \n",
            "2       8165486  \n",
            "3       1393091  \n",
            "4       1699504  \n",
            "<class 'pandas.core.frame.DataFrame'>\n",
            "RangeIndex: 11681 entries, 0 to 11680\n",
            "Data columns (total 18 columns):\n",
            " #   Column                        Non-Null Count  Dtype  \n",
            "---  ------                        --------------  -----  \n",
            " 0   Date received                 11681 non-null  object \n",
            " 1   Product                       11681 non-null  object \n",
            " 2   Sub-product                   6140 non-null   object \n",
            " 3   Issue                         11681 non-null  object \n",
            " 4   Sub-issue                     0 non-null      float64\n",
            " 5   Consumer complaint narrative  5311 non-null   object \n",
            " 6   Company public response       2709 non-null   object \n",
            " 7   Company                       11681 non-null  object \n",
            " 8   State                         11637 non-null  object \n",
            " 9   ZIP code                      11672 non-null  object \n",
            " 10  Tags                          2058 non-null   object \n",
            " 11  Consumer consent provided?    8151 non-null   object \n",
            " 12  Submitted via                 11681 non-null  object \n",
            " 13  Date sent to company          11681 non-null  object \n",
            " 14  Company response to consumer  11681 non-null  object \n",
            " 15  Timely response?              11681 non-null  object \n",
            " 16  Consumer disputed?            5559 non-null   object \n",
            " 17  Complaint ID                  11681 non-null  int64  \n",
            "dtypes: float64(1), int64(1), object(16)\n",
            "memory usage: 1.6+ MB\n",
            "None\n"
          ]
        }
      ]
    },
    {
      "cell_type": "code",
      "source": [
        "# To see all column names\n",
        "print(df.columns.tolist())\n"
      ],
      "metadata": {
        "colab": {
          "base_uri": "https://localhost:8080/"
        },
        "id": "S4WcOiBkt4lf",
        "outputId": "0825ff7a-7522-40f3-a183-46bd4221f97d"
      },
      "execution_count": 52,
      "outputs": [
        {
          "output_type": "stream",
          "name": "stdout",
          "text": [
            "['Date received', 'Product', 'Sub-product', 'Issue', 'Sub-issue', 'Consumer complaint narrative', 'Company public response', 'Company', 'State', 'ZIP code', 'Tags', 'Consumer consent provided?', 'Submitted via', 'Date sent to company', 'Company response to consumer', 'Timely response?', 'Consumer disputed?', 'Complaint ID']\n"
          ]
        }
      ]
    },
    {
      "cell_type": "code",
      "source": [
        "# Step 1: Import libraries\n",
        "import pandas as pd\n",
        "from sklearn.feature_extraction.text import TfidfVectorizer\n",
        "from sklearn.model_selection import train_test_split\n",
        "from sklearn.linear_model import LogisticRegression\n",
        "from sklearn.metrics import accuracy_score, precision_score, recall_score, f1_score, confusion_matrix, classification_report\n",
        "import matplotlib.pyplot as plt\n",
        "import seaborn as sns\n",
        "import warnings\n",
        "warnings.filterwarnings('ignore')\n",
        "sns.set(style=\"whitegrid\")\n",
        "\n",
        "# Step 2: Load Dataset\n",
        "file_path = \"/content/complaints-2025-09-28_10_16.csv\"  # Update with your CSV path\n",
        "df = pd.read_csv(file_path, engine='python', on_bad_lines='skip')\n",
        "print(\"Dataset loaded successfully!\")\n",
        "\n",
        "# Step 3: Keep only rows with complaint text\n",
        "df = df[df['Consumer complaint narrative'].notnull()]\n",
        "df = df[df['Consumer complaint narrative'].str.strip() != \"\"]\n",
        "\n",
        "# Step 4: Map Product to numeric labels\n",
        "category_map = {\n",
        "    'Credit reporting, repair, or other': 0,\n",
        "    'Debt collection': 1,\n",
        "    'Consumer Loan': 2,\n",
        "    'Mortgage': 3\n",
        "}\n",
        "\n",
        "# Filter dataset for only available categories\n",
        "available_categories = [cat for cat in category_map.keys() if cat in df['Product'].unique()]\n",
        "if not available_categories:\n",
        "    raise ValueError(\"None of the desired categories are present in the dataset!\")\n",
        "\n",
        "df = df[df['Product'].isin(available_categories)]\n",
        "df['label'] = df['Product'].map(category_map)\n",
        "\n",
        "print(\"Available labels in dataset:\", df['label'].unique())\n",
        "print(\"Label distribution:\\n\", df['label'].value_counts())\n",
        "\n",
        "# Step 5: TF-IDF Vectorization\n",
        "vectorizer = TfidfVectorizer(max_features=5000, stop_words='english')\n",
        "X = vectorizer.fit_transform(df['Consumer complaint narrative'])\n",
        "y = df['label']\n",
        "\n",
        "# Step 6: Train-Test Split\n",
        "X_train, X_test, y_train, y_test = train_test_split(\n",
        "    X, y, test_size=0.2, random_state=42, stratify=y\n",
        ")\n",
        "\n",
        "# Step 7: Train Logistic Regression\n",
        "logreg_model = LogisticRegression(max_iter=1000, multi_class='multinomial', solver='lbfgs')\n",
        "logreg_model.fit(X_train, y_train)\n",
        "\n",
        "# Step 8: Predictions\n",
        "y_pred = logreg_model.predict(X_test)\n",
        "\n",
        "# Step 9: Metrics\n",
        "accuracy = accuracy_score(y_test, y_pred)\n",
        "precision = precision_score(y_test, y_pred, average='macro', zero_division=0)\n",
        "recall = recall_score(y_test, y_pred, average='macro', zero_division=0)\n",
        "f1 = f1_score(y_test, y_pred, average='macro', zero_division=0)\n",
        "\n",
        "print(f\"Logistic Regression Accuracy: {accuracy:.4f}\")\n",
        "print(f\"Precision (macro): {precision:.4f}\")\n",
        "print(f\"Recall (macro): {recall:.4f}\")\n",
        "print(f\"F1-score (macro): {f1:.4f}\")\n",
        "\n",
        "# Step 10: Confusion Matrix\n",
        "unique_labels = sorted(df['label'].unique())\n",
        "plt.figure(figsize=(6,5))\n",
        "cm = confusion_matrix(y_test, y_pred, labels=unique_labels)\n",
        "sns.heatmap(cm, annot=True, fmt='d', cmap='Blues', xticklabels=unique_labels, yticklabels=unique_labels)\n",
        "plt.title(\"Confusion Matrix - Logistic Regression\")\n",
        "plt.xlabel(\"Predicted Class\")\n",
        "plt.ylabel(\"Actual Class\")\n",
        "plt.show()\n",
        "\n",
        "# Step 11: Classification Report\n",
        "print(\"\\nClassification Report:\\n\")\n",
        "print(classification_report(y_test, y_pred, labels=unique_labels, zero_division=0))\n"
      ],
      "metadata": {
        "colab": {
          "base_uri": "https://localhost:8080/",
          "height": 895
        },
        "id": "z6hHvmysuuJm",
        "outputId": "a49dbf38-e1ea-4b92-ad2a-1cb34391f208"
      },
      "execution_count": 56,
      "outputs": [
        {
          "output_type": "stream",
          "name": "stdout",
          "text": [
            "Dataset loaded successfully!\n",
            "Available labels in dataset: [3 2]\n",
            "Label distribution:\n",
            " label\n",
            "3    4969\n",
            "2     333\n",
            "Name: count, dtype: int64\n",
            "Logistic Regression Accuracy: 0.9538\n",
            "Precision (macro): 0.9765\n",
            "Recall (macro): 0.6343\n",
            "F1-score (macro): 0.6997\n"
          ]
        },
        {
          "output_type": "display_data",
          "data": {
            "text/plain": [
              "<Figure size 600x500 with 2 Axes>"
            ],
            "image/png": "[encoded data removed]"
          },
          "metadata": {}
        },
        {
          "output_type": "stream",
          "name": "stdout",
          "text": [
            "\n",
            "Classification Report:\n",
            "\n",
            "              precision    recall  f1-score   support\n",
            "\n",
            "           2       1.00      0.27      0.42        67\n",
            "           3       0.95      1.00      0.98       994\n",
            "\n",
            "    accuracy                           0.95      1061\n",
            "   macro avg       0.98      0.63      0.70      1061\n",
            "weighted avg       0.96      0.95      0.94      1061\n",
            "\n"
          ]
        }
      ]
    },
    {
      "cell_type": "code",
      "source": [
        "# Step 1: Import libraries\n",
        "import pandas as pd\n",
        "from sklearn.feature_extraction.text import TfidfVectorizer\n",
        "from sklearn.model_selection import train_test_split\n",
        "from sklearn.linear_model import LogisticRegression\n",
        "from sklearn.metrics import accuracy_score, precision_score, recall_score, f1_score, confusion_matrix, classification_report\n",
        "import matplotlib.pyplot as plt\n",
        "import seaborn as sns\n",
        "import warnings\n",
        "warnings.filterwarnings('ignore')\n",
        "sns.set(style=\"whitegrid\")\n",
        "\n",
        "# Step 2: Load Dataset\n",
        "file_path = \"/content/complaints-2025-09-28_10_16.csv\"  # Update with your CSV path\n",
        "df = pd.read_csv(file_path, engine='python', on_bad_lines='skip')\n",
        "print(\"Dataset loaded successfully!\")\n",
        "\n",
        "# Step 3: Keep only rows with complaint text\n",
        "df = df[df['Consumer complaint narrative'].notnull()]\n",
        "df = df[df['Consumer complaint narrative'].str.strip() != \"\"]\n",
        "\n",
        "# Step 4: Map existing Product values to desired labels\n",
        "# Example mapping based on your dataset\n",
        "label_map = {\n",
        "    'Debt or credit management': 1,    # Map to Debt collection\n",
        "    'Consumer Loan': 2,                # Map to Consumer Loan\n",
        "    'Payday loan': 2,                   # Map to Consumer Loan\n",
        "    'Mortgage': 3,                      # Map to Mortgage\n",
        "    'Credit reporting, repair, or other': 0   # Map to Credit reporting, repair, or other\n",
        "}\n",
        "\n",
        "# Keep only rows that can be mapped\n",
        "df = df[df['Product'].isin(label_map.keys())]\n",
        "df['label'] = df['Product'].map(label_map)\n",
        "\n",
        "print(\"Mapped label distribution:\\n\", df['label'].value_counts())\n",
        "\n",
        "# Step 5: TF-IDF Vectorization\n",
        "vectorizer = TfidfVectorizer(max_features=5000, stop_words='english')\n",
        "X = vectorizer.fit_transform(df['Consumer complaint narrative'])\n",
        "y = df['label']\n",
        "\n",
        "# Step 6: Train-Test Split\n",
        "X_train, X_test, y_train, y_test = train_test_split(\n",
        "    X, y, test_size=0.2, random_state=42, stratify=y\n",
        ")\n",
        "\n",
        "# Step 7: Train Logistic Regression\n",
        "logreg_model = LogisticRegression(max_iter=1000, multi_class='multinomial', solver='lbfgs')\n",
        "logreg_model.fit(X_train, y_train)\n",
        "\n",
        "# Step 8: Predictions\n",
        "y_pred = logreg_model.predict(X_test)\n",
        "\n",
        "# Step 9: Metrics\n",
        "accuracy = accuracy_score(y_test, y_pred)\n",
        "precision = precision_score(y_test, y_pred, average='macro', zero_division=0)\n",
        "recall = recall_score(y_test, y_pred, average='macro', zero_division=0)\n",
        "f1 = f1_score(y_test, y_pred, average='macro', zero_division=0)\n",
        "\n",
        "print(f\"\\nLogistic Regression Accuracy: {accuracy:.4f}\")\n",
        "print(f\"Precision (macro): {precision:.4f}\")\n",
        "print(f\"Recall (macro): {recall:.4f}\")\n",
        "print(f\"F1-score (macro): {f1:.4f}\")\n",
        "\n",
        "# Step 10: Confusion Matrix\n",
        "unique_labels = sorted(df['label'].unique())\n",
        "plt.figure(figsize=(6,5))\n",
        "cm = confusion_matrix(y_test, y_pred, labels=unique_labels)\n",
        "sns.heatmap(cm, annot=True, fmt='d', cmap='Blues', xticklabels=unique_labels, yticklabels=unique_labels)\n",
        "plt.title(\"Confusion Matrix - Logistic Regression\")\n",
        "plt.xlabel(\"Predicted Class\")\n",
        "plt.ylabel(\"Actual Class\")\n",
        "plt.show()\n",
        "\n",
        "# Step 11: Classification Report\n",
        "print(\"\\nClassification Report:\\n\")\n",
        "print(classification_report(y_test, y_pred, labels=unique_labels, zero_division=0))\n"
      ],
      "metadata": {
        "colab": {
          "base_uri": "https://localhost:8080/",
          "height": 930
        },
        "id": "lqfxDpSCuuGn",
        "outputId": "5a703b4b-4b3a-4b46-e778-8e6357009001"
      },
      "execution_count": 58,
      "outputs": [
        {
          "output_type": "stream",
          "name": "stdout",
          "text": [
            "Dataset loaded successfully!\n",
            "Mapped label distribution:\n",
            " label\n",
            "3    133980\n",
            "2      9461\n",
            "1      3549\n",
            "Name: count, dtype: int64\n",
            "\n",
            "Logistic Regression Accuracy: 0.9735\n",
            "Precision (macro): 0.9170\n",
            "Recall (macro): 0.8024\n",
            "F1-score (macro): 0.8518\n"
          ]
        },
        {
          "output_type": "display_data",
          "data": {
            "text/plain": [
              "<Figure size 600x500 with 2 Axes>"
            ],
            "image/png": "[encoded data removed]"
          },
          "metadata": {}
        },
        {
          "output_type": "stream",
          "name": "stdout",
          "text": [
            "\n",
            "Classification Report:\n",
            "\n",
            "              precision    recall  f1-score   support\n",
            "\n",
            "           1       0.85      0.61      0.71       710\n",
            "           2       0.92      0.80      0.86      1892\n",
            "           3       0.98      1.00      0.99     26796\n",
            "\n",
            "    accuracy                           0.97     29398\n",
            "   macro avg       0.92      0.80      0.85     29398\n",
            "weighted avg       0.97      0.97      0.97     29398\n",
            "\n"
          ]
        }
      ]
    },
    {
      "cell_type": "code",
      "source": [],
      "metadata": {
        "id": "2u500SXouuBJ"
      },
      "execution_count": null,
      "outputs": []
    },
    {
      "cell_type": "code",
      "source": [],
      "metadata": {
        "id": "BeYv33CSut-y"
      },
      "execution_count": null,
      "outputs": []
    },
    {
      "cell_type": "code",
      "source": [],
      "metadata": {
        "id": "nhGVnbcZut8b"
      },
      "execution_count": null,
      "outputs": []
    },
    {
      "cell_type": "code",
      "source": [],
      "metadata": {
        "id": "uJkCxPCnut6D"
      },
      "execution_count": null,
      "outputs": []
    },
    {
      "cell_type": "code",
      "source": [],
      "metadata": {
        "id": "rwCtQKHgut3P"
      },
      "execution_count": null,
      "outputs": []
    },
    {
      "cell_type": "code",
      "source": [],
      "metadata": {
        "id": "NazPmJkdut0l"
      },
      "execution_count": null,
      "outputs": []
    },
    {
      "cell_type": "code",
      "source": [
        "# URL of the CSV file\n",
        "url = \"/content/complaints-2025-09-28_09_08.csv\"  # Replace with actual CSV link\n",
        "\n",
        "# Load CSV into pandas dataframe\n",
        "df = pd.read_csv(url)\n",
        "\n",
        "# Inspect the dataset\n",
        "print(df.head())\n",
        "print(df.info())\n",
        "\n"
      ],
      "metadata": {
        "colab": {
          "base_uri": "https://localhost:8080/"
        },
        "collapsed": true,
        "id": "X3T6wZAtH94w",
        "outputId": "cddda73d-e805-47f2-c875-94341e89ac22"
      },
      "execution_count": 25,
      "outputs": [
        {
          "output_type": "stream",
          "name": "stdout",
          "text": [
            "  Date received                    Product       Sub-product  \\\n",
            "0      07/24/25  Debt or credit management   Debt settlement   \n",
            "1      11/12/16              Consumer Loan      Vehicle loan   \n",
            "2      05/29/14              Consumer Loan      Vehicle loan   \n",
            "3      01/07/13              Consumer Loan      Vehicle loan   \n",
            "4      03/10/15              Consumer Loan  Installment loan   \n",
            "\n",
            "                                 Issue  Sub-issue  \\\n",
            "0  Unauthorized withdrawals or charges        NaN   \n",
            "1           Managing the loan or lease        NaN   \n",
            "2         Taking out the loan or lease        NaN   \n",
            "3  Problems when you are unable to pay        NaN   \n",
            "4         Taking out the loan or lease        NaN   \n",
            "\n",
            "  Consumer complaint narrative Company public response  \\\n",
            "0                          NaN                     NaN   \n",
            "1                          NaN                     NaN   \n",
            "2                          NaN                     NaN   \n",
            "3                          NaN                     NaN   \n",
            "4                          NaN                     NaN   \n",
            "\n",
            "                        Company State ZIP code Tags  \\\n",
            "0  Clarity Debt Resolution, Inc    TX    76063  NaN   \n",
            "1        Westlake Services, LLC    CA    92619  NaN   \n",
            "2          JPMORGAN CHASE & CO.    GA    30135  NaN   \n",
            "3         FORD MOTOR CREDIT CO.    WA    98851  NaN   \n",
            "4          Social Finance, Inc.    CA    94112  NaN   \n",
            "\n",
            "  Consumer consent provided? Submitted via Date sent to company  \\\n",
            "0                        NaN           Web             08/01/25   \n",
            "1       Consent not provided           Web             11/15/16   \n",
            "2                        NaN           Web             05/29/14   \n",
            "3                        NaN           Web             01/07/13   \n",
            "4                        NaN           Web             03/16/15   \n",
            "\n",
            "  Company response to consumer Timely response? Consumer disputed?  \\\n",
            "0      Closed with explanation              Yes                NaN   \n",
            "1      Closed with explanation              Yes                 No   \n",
            "2      Closed with explanation              Yes                Yes   \n",
            "3      Closed with explanation              Yes                 No   \n",
            "4      Closed with explanation              Yes                 No   \n",
            "\n",
            "   Complaint ID  \n",
            "0      14856720  \n",
            "1       2205420  \n",
            "2        873853  \n",
            "3        223038  \n",
            "4       1274845  \n",
            "<class 'pandas.core.frame.DataFrame'>\n",
            "RangeIndex: 38772 entries, 0 to 38771\n",
            "Data columns (total 18 columns):\n",
            " #   Column                        Non-Null Count  Dtype  \n",
            "---  ------                        --------------  -----  \n",
            " 0   Date received                 38772 non-null  object \n",
            " 1   Product                       38772 non-null  object \n",
            " 2   Sub-product                   38772 non-null  object \n",
            " 3   Issue                         38772 non-null  object \n",
            " 4   Sub-issue                     0 non-null      float64\n",
            " 5   Consumer complaint narrative  13318 non-null  object \n",
            " 6   Company public response       9768 non-null   object \n",
            " 7   Company                       38772 non-null  object \n",
            " 8   State                         38547 non-null  object \n",
            " 9   ZIP code                      38612 non-null  object \n",
            " 10  Tags                          6593 non-null   object \n",
            " 11  Consumer consent provided?    21001 non-null  object \n",
            " 12  Submitted via                 38772 non-null  object \n",
            " 13  Date sent to company          38772 non-null  object \n",
            " 14  Company response to consumer  38772 non-null  object \n",
            " 15  Timely response?              38772 non-null  object \n",
            " 16  Consumer disputed?            32650 non-null  object \n",
            " 17  Complaint ID                  38772 non-null  int64  \n",
            "dtypes: float64(1), int64(1), object(16)\n",
            "memory usage: 5.3+ MB\n",
            "None\n"
          ]
        }
      ]
    },
    {
      "cell_type": "code",
      "source": [
        "# Step 0: Import Libraries\n",
        "import pandas as pd\n",
        "from sklearn.feature_extraction.text import CountVectorizer\n",
        "from sklearn.model_selection import train_test_split\n",
        "from sklearn.linear_model import LogisticRegression\n",
        "from sklearn.metrics import classification_report, confusion_matrix\n",
        "import seaborn as sns\n",
        "import matplotlib.pyplot as plt\n",
        "\n",
        "# Step 1: Load CSV\n",
        "file_path = \"/content/complaints-2025-09-28_08_42.csv\"\n",
        "df = pd.read_csv(file_path)\n",
        "\n",
        "# Step 2: Keep only non-empty complaint narratives\n",
        "df = df[df['Consumer complaint narrative'].notnull()]\n",
        "df = df[df['Consumer complaint narrative'].str.strip() != \"\"]\n",
        "print(f\"Number of complaints with text: {len(df)}\")\n",
        "\n",
        "# Step 3: Check available products\n",
        "print(\"Available products:\", df['Product'].unique())\n",
        "\n",
        "# Step 4: Map each product to a numeric label\n",
        "products = df['Product'].unique()\n",
        "product_map = {prod: idx for idx, prod in enumerate(products)}\n",
        "df['label'] = df['Product'].map(product_map)\n",
        "\n",
        "# Step 5: Vectorize complaint text\n",
        "vectorizer = CountVectorizer(max_features=5000, stop_words='english')\n",
        "X = vectorizer.fit_transform(df['Consumer complaint narrative'])\n",
        "y = df['label']\n",
        "print(f\"Vectorized text shape: {X.shape}\")\n",
        "\n",
        "# Step 6: Split data\n",
        "X_train, X_test, y_train, y_test = train_test_split(X, y, test_size=0.2, random_state=42)\n",
        "\n",
        "# Step 7: Train Logistic Regression\n",
        "model = LogisticRegression(max_iter=500)\n",
        "model.fit(X_train, y_train)\n",
        "\n",
        "# Step 8: Evaluate model\n",
        "y_pred = model.predict(X_test)\n",
        "print(\"Classification Report:\")\n",
        "print(classification_report(y_test, y_pred, target_names=products))\n",
        "\n",
        "# Confusion Matrix\n",
        "cm = confusion_matrix(y_test, y_pred)\n",
        "plt.figure(figsize=(10,7))\n",
        "sns.heatmap(cm, annot=True, fmt='d', cmap='Blues', xticklabels=products, yticklabels=products)\n",
        "plt.xlabel('Predicted')\n",
        "plt.ylabel('Actual')\n",
        "plt.title('Confusion Matrix')\n",
        "plt.show()\n",
        "\n",
        "# Step 9: Predict on new complaints\n",
        "new_complaints = [\n",
        "    \"I am unable to get my credit score updated\",\n",
        "    \"My mortgage interest rate keeps increasing unexpectedly\",\n",
        "    \"Debt collector keeps calling me even after I paid\",\n",
        "    \"I applied for a personal loan but it got rejected unfairly\"\n",
        "]\n",
        "\n",
        "new_X = vectorizer.transform(new_complaints)\n",
        "new_preds = model.predict(new_X)\n",
        "predicted_labels = [products[i] for i in new_preds]\n",
        "\n",
        "print(\"Predictions for new complaints:\")\n",
        "for text, label in zip(new_complaints, predicted_labels):\n",
        "    print(f\"'{text}' → {label}\")\n"
      ],
      "metadata": {
        "colab": {
          "base_uri": "https://localhost:8080/",
          "height": 971
        },
        "id": "tA4K4-Urc8RZ",
        "outputId": "7103d86e-a01f-4912-cdd8-cb1b21a28c84"
      },
      "execution_count": 53,
      "outputs": [
        {
          "output_type": "stream",
          "name": "stdout",
          "text": [
            "Number of complaints with text: 5311\n",
            "Available products: ['Debt or credit management' 'Payday loan' 'Virtual currency']\n",
            "Vectorized text shape: (5311, 5000)\n",
            "Classification Report:\n",
            "                           precision    recall  f1-score   support\n",
            "\n",
            "Debt or credit management       0.96      0.97      0.97       713\n",
            "              Payday loan       0.94      0.93      0.93       347\n",
            "         Virtual currency       1.00      0.33      0.50         3\n",
            "\n",
            "                 accuracy                           0.95      1063\n",
            "                macro avg       0.97      0.74      0.80      1063\n",
            "             weighted avg       0.95      0.95      0.95      1063\n",
            "\n"
          ]
        },
        {
          "output_type": "display_data",
          "data": {
            "text/plain": [
              "<Figure size 1000x700 with 2 Axes>"
            ],
            "image/png": "[encoded data removed]"
          },
          "metadata": {}
        },
        {
          "output_type": "stream",
          "name": "stdout",
          "text": [
            "Predictions for new complaints:\n",
            "'I am unable to get my credit score updated' → Debt or credit management\n",
            "'My mortgage interest rate keeps increasing unexpectedly' → Debt or credit management\n",
            "'Debt collector keeps calling me even after I paid' → Debt or credit management\n",
            "'I applied for a personal loan but it got rejected unfairly' → Payday loan\n"
          ]
        }
      ]
    },
    {
      "cell_type": "code",
      "source": [
        "# Step 0: Import Libraries\n",
        "import pandas as pd\n",
        "from sklearn.feature_extraction.text import CountVectorizer\n",
        "from sklearn.model_selection import train_test_split\n",
        "from sklearn.linear_model import LogisticRegression\n",
        "from sklearn.svm import SVC\n",
        "from sklearn.ensemble import RandomForestClassifier\n",
        "from sklearn.metrics import classification_report, accuracy_score\n",
        "import warnings\n",
        "warnings.filterwarnings('ignore')  # suppress warnings\n",
        "\n",
        "# Step 1: Load CSV\n",
        "file_path = \"/content/complaints-2025-09-28_08_42.csv\"\n",
        "df = pd.read_csv(file_path)\n",
        "\n",
        "# Step 2: Keep only non-empty complaint narratives\n",
        "df = df[df['Consumer complaint narrative'].notnull()]\n",
        "df = df[df['Consumer complaint narrative'].str.strip() != \"\"]\n",
        "print(f\"Number of complaints with text: {len(df)}\")\n",
        "\n",
        "# Step 3: Map product categories to numeric labels\n",
        "products = df['Product'].unique()\n",
        "product_map = {prod: idx for idx, prod in enumerate(products)}\n",
        "df['label'] = df['Product'].map(product_map)\n",
        "\n",
        "# Step 4: Vectorize text\n",
        "vectorizer = CountVectorizer(max_features=5000, stop_words='english')\n",
        "X = vectorizer.fit_transform(df['Consumer complaint narrative'])\n",
        "y = df['label']\n",
        "print(f\"Vectorized text shape: {X.shape}\")\n",
        "\n",
        "# Step 5: Train-test split\n",
        "X_train, X_test, y_train, y_test = train_test_split(X, y, test_size=0.2, random_state=42)\n",
        "\n",
        "# Step 6: Initialize models\n",
        "models = {\n",
        "    \"Logistic Regression\": LogisticRegression(max_iter=500),\n",
        "    \"SVM (Linear Kernel)\": SVC(kernel='linear'),\n",
        "    \"Random Forest\": RandomForestClassifier(n_estimators=200, random_state=42)\n",
        "}\n",
        "\n",
        "# Step 7: Train, predict, and evaluate all models\n",
        "results = {}\n",
        "for name, model in models.items():\n",
        "    print(f\"\\n--- {name} ---\")\n",
        "    model.fit(X_train, y_train)\n",
        "    y_pred = model.predict(X_test)\n",
        "    acc = accuracy_score(y_test, y_pred)\n",
        "    results[name] = acc\n",
        "    print(f\"Accuracy: {acc:.4f}\")\n",
        "    print(\"Classification Report:\")\n",
        "    print(classification_report(y_test, y_pred, target_names=products))\n",
        "\n",
        "# Step 8: Compare accuracies\n",
        "print(\"\\n--- Model Accuracy Comparison ---\")\n",
        "for name, acc in results.items():\n",
        "    print(f\"{name}: {acc:.4f}\")\n"
      ],
      "metadata": {
        "colab": {
          "base_uri": "https://localhost:8080/"
        },
        "id": "Q5f3nrnOeGDg",
        "outputId": "6cdf54ec-e4c8-4f88-c5c8-fc68654e0e09"
      },
      "execution_count": 27,
      "outputs": [
        {
          "output_type": "stream",
          "name": "stdout",
          "text": [
            "Number of complaints with text: 5311\n",
            "Vectorized text shape: (5311, 5000)\n",
            "\n",
            "--- Logistic Regression ---\n",
            "Accuracy: 0.9539\n",
            "Classification Report:\n",
            "                           precision    recall  f1-score   support\n",
            "\n",
            "Debt or credit management       0.96      0.97      0.97       713\n",
            "              Payday loan       0.94      0.93      0.93       347\n",
            "         Virtual currency       1.00      0.33      0.50         3\n",
            "\n",
            "                 accuracy                           0.95      1063\n",
            "                macro avg       0.97      0.74      0.80      1063\n",
            "             weighted avg       0.95      0.95      0.95      1063\n",
            "\n",
            "\n",
            "--- SVM (Linear Kernel) ---\n",
            "Accuracy: 0.9445\n",
            "Classification Report:\n",
            "                           precision    recall  f1-score   support\n",
            "\n",
            "Debt or credit management       0.96      0.96      0.96       713\n",
            "              Payday loan       0.91      0.93      0.92       347\n",
            "         Virtual currency       0.50      0.33      0.40         3\n",
            "\n",
            "                 accuracy                           0.94      1063\n",
            "                macro avg       0.79      0.74      0.76      1063\n",
            "             weighted avg       0.94      0.94      0.94      1063\n",
            "\n",
            "\n",
            "--- Random Forest ---\n",
            "Accuracy: 0.9577\n",
            "Classification Report:\n",
            "                           precision    recall  f1-score   support\n",
            "\n",
            "Debt or credit management       0.95      0.99      0.97       713\n",
            "              Payday loan       0.97      0.90      0.94       347\n",
            "         Virtual currency       1.00      0.33      0.50         3\n",
            "\n",
            "                 accuracy                           0.96      1063\n",
            "                macro avg       0.98      0.74      0.80      1063\n",
            "             weighted avg       0.96      0.96      0.96      1063\n",
            "\n",
            "\n",
            "--- Model Accuracy Comparison ---\n",
            "Logistic Regression: 0.9539\n",
            "SVM (Linear Kernel): 0.9445\n",
            "Random Forest: 0.9577\n"
          ]
        }
      ]
    },
    {
      "cell_type": "code",
      "source": [
        "# Step 0: Import Libraries\n",
        "import pandas as pd\n",
        "from sklearn.feature_extraction.text import CountVectorizer\n",
        "from sklearn.model_selection import train_test_split\n",
        "from sklearn.linear_model import LogisticRegression\n",
        "from sklearn.svm import SVC\n",
        "from sklearn.ensemble import RandomForestClassifier\n",
        "from sklearn.metrics import classification_report, accuracy_score, confusion_matrix\n",
        "import seaborn as sns\n",
        "import matplotlib.pyplot as plt\n",
        "import warnings\n",
        "warnings.filterwarnings('ignore')\n",
        "\n",
        "# Step 1: Load CSV\n",
        "file_path = \"/content/complaints-2025-09-28_08_42.csv\"\n",
        "df = pd.read_csv(file_path)\n",
        "\n",
        "# Step 2: Keep only non-empty complaint narratives\n",
        "df = df[df['Consumer complaint narrative'].notnull()]\n",
        "df = df[df['Consumer complaint narrative'].str.strip() != \"\"]\n",
        "print(f\"Number of complaints with text: {len(df)}\")\n",
        "\n",
        "# Step 3: Map product categories to numeric labels\n",
        "products = df['Product'].unique()\n",
        "product_map = {prod: idx for idx, prod in enumerate(products)}\n",
        "df['label'] = df['Product'].map(product_map)\n",
        "\n",
        "# Step 4: Vectorize text using CountVectorizer\n",
        "vectorizer = CountVectorizer(max_features=5000, stop_words='english')\n",
        "X = vectorizer.fit_transform(df['Consumer complaint narrative'])\n",
        "y = df['label']\n",
        "print(f\"Vectorized text shape: {X.shape}\")\n",
        "\n",
        "# Step 5: Train-test split\n",
        "X_train, X_test, y_train, y_test = train_test_split(X, y, test_size=0.2, random_state=42)\n",
        "\n",
        "# Step 6: Initialize models\n",
        "models = {\n",
        "    \"Logistic Regression\": LogisticRegression(max_iter=500),\n",
        "    \"SVM (Linear Kernel)\": SVC(kernel='linear'),\n",
        "    \"Random Forest\": RandomForestClassifier(n_estimators=200, random_state=42)\n",
        "}\n",
        "\n",
        "# Step 7: Train, predict, evaluate, and plot confusion matrices\n",
        "for name, model in models.items():\n",
        "    print(f\"\\n--- {name} ---\")\n",
        "    model.fit(X_train, y_train)\n",
        "    y_pred = model.predict(X_test)\n",
        "\n",
        "    # Accuracy and classification report\n",
        "    acc = accuracy_score(y_test, y_pred)\n",
        "    print(f\"Accuracy: {acc:.4f}\")\n",
        "    print(\"Classification Report:\")\n",
        "    print(classification_report(y_test, y_pred, target_names=products))\n",
        "\n",
        "    # Confusion matrix\n",
        "    cm = confusion_matrix(y_test, y_pred)\n",
        "    plt.figure(figsize=(10,7))\n",
        "    sns.heatmap(cm, annot=True, fmt='d', cmap='Blues', xticklabels=products, yticklabels=products)\n",
        "    plt.xlabel('Predicted')\n",
        "    plt.ylabel('Actual')\n",
        "    plt.title(f'{name} - Confusion Matrix')\n",
        "    plt.show()\n"
      ],
      "metadata": {
        "colab": {
          "base_uri": "https://localhost:8080/",
          "height": 1000
        },
        "id": "evcqIge6ZcUC",
        "outputId": "3e9b7742-afe0-4e2e-d9b3-157f5354a3c3"
      },
      "execution_count": 28,
      "outputs": [
        {
          "output_type": "stream",
          "name": "stdout",
          "text": [
            "Number of complaints with text: 5311\n",
            "Vectorized text shape: (5311, 5000)\n",
            "\n",
            "--- Logistic Regression ---\n",
            "Accuracy: 0.9539\n",
            "Classification Report:\n",
            "                           precision    recall  f1-score   support\n",
            "\n",
            "Debt or credit management       0.96      0.97      0.97       713\n",
            "              Payday loan       0.94      0.93      0.93       347\n",
            "         Virtual currency       1.00      0.33      0.50         3\n",
            "\n",
            "                 accuracy                           0.95      1063\n",
            "                macro avg       0.97      0.74      0.80      1063\n",
            "             weighted avg       0.95      0.95      0.95      1063\n",
            "\n"
          ]
        },
        {
          "output_type": "display_data",
          "data": {
            "text/plain": [
              "<Figure size 1000x700 with 2 Axes>"
            ],
            "image/png": "[encoded data removed]"
          },
          "metadata": {}
        },
        {
          "output_type": "stream",
          "name": "stdout",
          "text": [
            "\n",
            "--- SVM (Linear Kernel) ---\n",
            "Accuracy: 0.9445\n",
            "Classification Report:\n",
            "                           precision    recall  f1-score   support\n",
            "\n",
            "Debt or credit management       0.96      0.96      0.96       713\n",
            "              Payday loan       0.91      0.93      0.92       347\n",
            "         Virtual currency       0.50      0.33      0.40         3\n",
            "\n",
            "                 accuracy                           0.94      1063\n",
            "                macro avg       0.79      0.74      0.76      1063\n",
            "             weighted avg       0.94      0.94      0.94      1063\n",
            "\n"
          ]
        },
        {
          "output_type": "display_data",
          "data": {
            "text/plain": [
              "<Figure size 1000x700 with 2 Axes>"
            ],
            "image/png": "[encoded data removed]"
          },
          "metadata": {}
        },
        {
          "output_type": "stream",
          "name": "stdout",
          "text": [
            "\n",
            "--- Random Forest ---\n",
            "Accuracy: 0.9577\n",
            "Classification Report:\n",
            "                           precision    recall  f1-score   support\n",
            "\n",
            "Debt or credit management       0.95      0.99      0.97       713\n",
            "              Payday loan       0.97      0.90      0.94       347\n",
            "         Virtual currency       1.00      0.33      0.50         3\n",
            "\n",
            "                 accuracy                           0.96      1063\n",
            "                macro avg       0.98      0.74      0.80      1063\n",
            "             weighted avg       0.96      0.96      0.96      1063\n",
            "\n"
          ]
        },
        {
          "output_type": "display_data",
          "data": {
            "text/plain": [
              "<Figure size 1000x700 with 2 Axes>"
            ],
            "image/png": "[encoded data removed]"
          },
          "metadata": {}
        }
      ]
    },
    {
      "cell_type": "code",
      "source": [],
      "metadata": {
        "id": "wvR63b5de52Y"
      },
      "execution_count": null,
      "outputs": []
    },
    {
      "cell_type": "code",
      "source": [
        "# Step 0: Import Libraries\n",
        "import pandas as pd\n",
        "from sklearn.feature_extraction.text import CountVectorizer\n",
        "from sklearn.model_selection import train_test_split\n",
        "from sklearn.linear_model import LogisticRegression\n",
        "from sklearn.svm import SVC\n",
        "from sklearn.ensemble import RandomForestClassifier\n",
        "from sklearn.metrics import accuracy_score\n",
        "import matplotlib.pyplot as plt\n",
        "import warnings\n",
        "warnings.filterwarnings('ignore')\n",
        "\n",
        "# Step 1: Load CSV\n",
        "file_path = \"/content/complaints-2025-09-28_08_42.csv\"\n",
        "df = pd.read_csv(file_path)\n",
        "\n",
        "# Step 2: Keep only non-empty complaint narratives\n",
        "df = df[df['Consumer complaint narrative'].notnull()]\n",
        "df = df[df['Consumer complaint narrative'].str.strip() != \"\"]\n",
        "\n",
        "# Step 3: Map product categories to numeric labels\n",
        "products = df['Product'].unique()\n",
        "product_map = {prod: idx for idx, prod in enumerate(products)}\n",
        "df['label'] = df['Product'].map(product_map)\n",
        "\n",
        "# Step 4: Vectorize text\n",
        "vectorizer = CountVectorizer(max_features=5000, stop_words='english')\n",
        "X = vectorizer.fit_transform(df['Consumer complaint narrative'])\n",
        "y = df['label']\n",
        "\n",
        "# Step 5: Train-test split\n",
        "X_train, X_test, y_train, y_test = train_test_split(X, y, test_size=0.2, random_state=42)\n",
        "\n",
        "# Step 6: Train models and record accuracies\n",
        "models = {\n",
        "    \"Logistic Regression\": LogisticRegression(max_iter=500),\n",
        "    \"SVM (Linear Kernel)\": SVC(kernel='linear'),\n",
        "    \"Random Forest\": RandomForestClassifier(n_estimators=200, random_state=42)\n",
        "}\n",
        "\n",
        "accuracies = {}\n",
        "for name, model in models.items():\n",
        "    model.fit(X_train, y_train)\n",
        "    y_pred = model.predict(X_test)\n",
        "    accuracies[name] = accuracy_score(y_test, y_pred)\n",
        "\n",
        "# Step 7: Plot comparison bar chart\n",
        "plt.figure(figsize=(8,5))\n",
        "plt.bar(accuracies.keys(), accuracies.values(), color=['skyblue', 'lightgreen', 'salmon'])\n",
        "plt.ylim(0, 1)\n",
        "plt.ylabel('Accuracy')\n",
        "plt.title('Accuracy Comparison: Logistic Regression vs SVM vs Random Forest')\n",
        "for i, v in enumerate(accuracies.values()):\n",
        "    plt.text(i, v + 0.02, f\"{v:.2f}\", ha='center', fontweight='bold')\n",
        "plt.show()\n"
      ],
      "metadata": {
        "colab": {
          "base_uri": "https://localhost:8080/",
          "height": 468
        },
        "id": "535zE1N0ZcQv",
        "outputId": "bc4380e7-0f47-49cd-9ddc-3db92deb1833"
      },
      "execution_count": 29,
      "outputs": [
        {
          "output_type": "display_data",
          "data": {
            "text/plain": [
              "<Figure size 800x500 with 1 Axes>"
            ],
            "image/png": "[encoded data removed]"
          },
          "metadata": {}
        }
      ]
    },
    {
      "cell_type": "code",
      "source": [
        "# URL of the CSV file\n",
        "url = \"/content/complaints-2025-09-28_08_42.csv\"  # Replace with actual CSV link\n",
        "\n",
        "# Load CSV into pandas dataframe\n",
        "df = pd.read_csv(url)\n",
        "\n",
        "# Inspect the dataset\n",
        "print(df.head())\n",
        "print(df.info())\n",
        "\n"
      ],
      "metadata": {
        "colab": {
          "base_uri": "https://localhost:8080/"
        },
        "id": "IJn_GiiJZcOm",
        "outputId": "1eb3d803-40cc-4436-c7ed-c88380ab083a"
      },
      "execution_count": 31,
      "outputs": [
        {
          "output_type": "stream",
          "name": "stdout",
          "text": [
            "  Date received                    Product      Sub-product  \\\n",
            "0      07/24/25  Debt or credit management  Debt settlement   \n",
            "1      09/13/16                Payday loan              NaN   \n",
            "2      01/17/24  Debt or credit management  Debt settlement   \n",
            "3      05/27/15                Payday loan              NaN   \n",
            "4      12/17/15                Payday loan              NaN   \n",
            "\n",
            "                                      Issue  Sub-issue  \\\n",
            "0       Unauthorized withdrawals or charges        NaN   \n",
            "1  Charged fees or interest I didn't expect        NaN   \n",
            "2          Didn't provide services promised        NaN   \n",
            "3        Can't stop charges to bank account        NaN   \n",
            "4        Can't stop charges to bank account        NaN   \n",
            "\n",
            "                        Consumer complaint narrative  \\\n",
            "0                                                NaN   \n",
            "1                                                NaN   \n",
            "2  On XX/XX/XXXX XXXX XXXX  I made a debt settlem...   \n",
            "3                                                NaN   \n",
            "4  On Wednesday, XXXX XXXX, 2015, I agreed to a s...   \n",
            "\n",
            "                             Company public response  \\\n",
            "0                                                NaN   \n",
            "1  Company has responded to the consumer and the ...   \n",
            "2  Company believes the complaint is the result o...   \n",
            "3  Company believes it acted appropriately as aut...   \n",
            "4  Company believes the complaint is the result o...   \n",
            "\n",
            "                              Company State ZIP code            Tags  \\\n",
            "0        Clarity Debt Resolution, Inc    TX    76063             NaN   \n",
            "1               WELLS FARGO & COMPANY    FL    33026  Older American   \n",
            "2  Elite Financial Services, Inc (MA)    NY    132XX             NaN   \n",
            "3                      CASHCALL, INC.    VA    23231             NaN   \n",
            "4           ENOVA INTERNATIONAL, INC.    TX    75237             NaN   \n",
            "\n",
            "  Consumer consent provided? Submitted via Date sent to company  \\\n",
            "0                        NaN           Web             08/01/25   \n",
            "1       Consent not provided           Web             09/15/16   \n",
            "2           Consent provided           Web             01/17/24   \n",
            "3       Consent not provided           Web             06/01/15   \n",
            "4           Consent provided           Web             12/17/15   \n",
            "\n",
            "  Company response to consumer Timely response? Consumer disputed?  \\\n",
            "0      Closed with explanation              Yes                NaN   \n",
            "1      Closed with explanation              Yes                 No   \n",
            "2      Closed with explanation               No                NaN   \n",
            "3      Closed with explanation              Yes                Yes   \n",
            "4      Closed with explanation              Yes                 No   \n",
            "\n",
            "   Complaint ID  \n",
            "0      14856720  \n",
            "1       2110195  \n",
            "2       8165486  \n",
            "3       1393091  \n",
            "4       1699504  \n",
            "<class 'pandas.core.frame.DataFrame'>\n",
            "RangeIndex: 11681 entries, 0 to 11680\n",
            "Data columns (total 18 columns):\n",
            " #   Column                        Non-Null Count  Dtype  \n",
            "---  ------                        --------------  -----  \n",
            " 0   Date received                 11681 non-null  object \n",
            " 1   Product                       11681 non-null  object \n",
            " 2   Sub-product                   6140 non-null   object \n",
            " 3   Issue                         11681 non-null  object \n",
            " 4   Sub-issue                     0 non-null      float64\n",
            " 5   Consumer complaint narrative  5311 non-null   object \n",
            " 6   Company public response       2709 non-null   object \n",
            " 7   Company                       11681 non-null  object \n",
            " 8   State                         11637 non-null  object \n",
            " 9   ZIP code                      11672 non-null  object \n",
            " 10  Tags                          2058 non-null   object \n",
            " 11  Consumer consent provided?    8151 non-null   object \n",
            " 12  Submitted via                 11681 non-null  object \n",
            " 13  Date sent to company          11681 non-null  object \n",
            " 14  Company response to consumer  11681 non-null  object \n",
            " 15  Timely response?              11681 non-null  object \n",
            " 16  Consumer disputed?            5559 non-null   object \n",
            " 17  Complaint ID                  11681 non-null  int64  \n",
            "dtypes: float64(1), int64(1), object(16)\n",
            "memory usage: 1.6+ MB\n",
            "None\n"
          ]
        }
      ]
    },
    {
      "cell_type": "code",
      "source": [
        "df = df[df['Consumer complaint narrative'].notnull()]\n",
        "df = df[df['Consumer complaint narrative'].str.strip() != \"\"]\n",
        "print(f\"Number of complaints with text: {len(df)}\")\n"
      ],
      "metadata": {
        "colab": {
          "base_uri": "https://localhost:8080/"
        },
        "id": "8DNnp-6fZcL5",
        "outputId": "e1c5d294-3593-4fac-fcd5-48e8685a77d6"
      },
      "execution_count": 32,
      "outputs": [
        {
          "output_type": "stream",
          "name": "stdout",
          "text": [
            "Number of complaints with text: 5311\n"
          ]
        }
      ]
    },
    {
      "cell_type": "code",
      "source": [
        "products = df['Product'].unique()\n",
        "product_map = {prod: idx for idx, prod in enumerate(products)}\n",
        "df['label'] = df['Product'].map(product_map)\n",
        "print(\"Available categories:\", products)\n"
      ],
      "metadata": {
        "colab": {
          "base_uri": "https://localhost:8080/"
        },
        "id": "-X77GDPSZcJc",
        "outputId": "7e62b4ee-7b5a-433a-ceb7-7579d1238bac"
      },
      "execution_count": 33,
      "outputs": [
        {
          "output_type": "stream",
          "name": "stdout",
          "text": [
            "Available categories: ['Debt or credit management' 'Payday loan' 'Virtual currency']\n"
          ]
        }
      ]
    },
    {
      "cell_type": "code",
      "source": [
        "vectorizer = CountVectorizer(max_features=5000, stop_words='english')\n",
        "X = vectorizer.fit_transform(df['Consumer complaint narrative'])\n",
        "y = df['label']\n",
        "print(f\"Vectorized text shape: {X.shape}\")\n"
      ],
      "metadata": {
        "colab": {
          "base_uri": "https://localhost:8080/"
        },
        "id": "IxVqWZZsZcG7",
        "outputId": "5e4a5a82-b7a4-4364-8727-d5c1e44da5bf"
      },
      "execution_count": 34,
      "outputs": [
        {
          "output_type": "stream",
          "name": "stdout",
          "text": [
            "Vectorized text shape: (5311, 5000)\n"
          ]
        }
      ]
    },
    {
      "cell_type": "code",
      "source": [
        "X_train, X_test, y_train, y_test = train_test_split(\n",
        "    X, y, test_size=0.2, random_state=42\n",
        ")\n"
      ],
      "metadata": {
        "id": "1wq8czeTZcEU"
      },
      "execution_count": 35,
      "outputs": []
    },
    {
      "cell_type": "code",
      "source": [
        "models = {\n",
        "    \"Logistic Regression\": LogisticRegression(max_iter=500),\n",
        "    # \"SVM (Linear Kernel)\": SVC(kernel='linear'),\n",
        "    # \"Random Forest\": RandomForestClassifier(n_estimators=200, random_state=42)\n",
        "}\n"
      ],
      "metadata": {
        "id": "zVYRf2meZb5S"
      },
      "execution_count": 36,
      "outputs": []
    },
    {
      "cell_type": "code",
      "source": [
        "accuracies = {}\n",
        "\n",
        "for name, model in models.items():\n",
        "    model.fit(X_train, y_train)\n",
        "    y_pred = model.predict(X_test)\n",
        "    accuracies[name] = accuracy_score(y_test, y_pred)\n",
        "    print(f\"{name} Accuracy: {accuracies[name]:.4f}\")\n"
      ],
      "metadata": {
        "colab": {
          "base_uri": "https://localhost:8080/"
        },
        "id": "cNloOrS6ff6w",
        "outputId": "7319aa44-1c65-404c-c9f4-8f20d2a3a127"
      },
      "execution_count": 37,
      "outputs": [
        {
          "output_type": "stream",
          "name": "stdout",
          "text": [
            "Logistic Regression Accuracy: 0.9539\n"
          ]
        }
      ]
    },
    {
      "cell_type": "code",
      "source": [
        "plt.figure(figsize=(8,5))\n",
        "plt.bar(accuracies.keys(), accuracies.values(), color=['skyblue', 'lightgreen', 'salmon'])\n",
        "plt.ylim(0, 1)\n",
        "plt.ylabel('Accuracy')\n",
        "plt.title('Accuracy Comparison: Logistic Regression vs SVM vs Random Forest')\n",
        "\n",
        "# Annotate bars with accuracy\n",
        "for i, v in enumerate(accuracies.values()):\n",
        "    plt.text(i, v + 0.02, f\"{v:.2f}\", ha='center', fontweight='bold')\n",
        "\n",
        "plt.show()\n"
      ],
      "metadata": {
        "colab": {
          "base_uri": "https://localhost:8080/",
          "height": 468
        },
        "id": "w49mNsGsff3L",
        "outputId": "013daa11-57d9-4122-cf65-8bdfc58af127"
      },
      "execution_count": 38,
      "outputs": [
        {
          "output_type": "display_data",
          "data": {
            "text/plain": [
              "<Figure size 800x500 with 1 Axes>"
            ],
            "image/png": "[encoded data removed]"
          },
          "metadata": {}
        }
      ]
    },
    {
      "cell_type": "code",
      "source": [
        "vectorizer = TfidfVectorizer(max_features=5000, stop_words='english')\n",
        "X = vectorizer.fit_transform(df['Consumer complaint narrative'])\n",
        "y = df['label']\n",
        "print(f\"TF-IDF vectorized text shape: {X.shape}\")\n"
      ],
      "metadata": {
        "colab": {
          "base_uri": "https://localhost:8080/"
        },
        "id": "iLHEl-Hrff0U",
        "outputId": "86519bea-dfb7-45e4-a2bc-6e9e457990d4"
      },
      "execution_count": 39,
      "outputs": [
        {
          "output_type": "stream",
          "name": "stdout",
          "text": [
            "TF-IDF vectorized text shape: (5311, 5000)\n"
          ]
        }
      ]
    },
    {
      "cell_type": "code",
      "source": [
        "X_train, X_test, y_train, y_test = train_test_split(\n",
        "    X, y, test_size=0.2, random_state=42\n",
        ")\n"
      ],
      "metadata": {
        "id": "4c77HDJjffxK"
      },
      "execution_count": 40,
      "outputs": []
    },
    {
      "cell_type": "code",
      "source": [
        "df = df[df['Consumer complaint narrative'].notnull()]\n",
        "df = df[df['Consumer complaint narrative'].str.strip() != \"\"]\n",
        "print(f\"Number of complaints with text: {len(df)}\")\n"
      ],
      "metadata": {
        "colab": {
          "base_uri": "https://localhost:8080/"
        },
        "id": "OatsbhAfgs52",
        "outputId": "a02df77e-5615-4442-ee25-94d2e2aa665c"
      },
      "execution_count": 42,
      "outputs": [
        {
          "output_type": "stream",
          "name": "stdout",
          "text": [
            "Number of complaints with text: 5311\n"
          ]
        }
      ]
    },
    {
      "cell_type": "code",
      "source": [
        "products = df['Product'].unique()\n",
        "product_map = {prod: idx for idx, prod in enumerate(products)}\n",
        "df['label'] = df['Product'].map(product_map)\n",
        "print(\"Available categories:\", products)\n"
      ],
      "metadata": {
        "colab": {
          "base_uri": "https://localhost:8080/"
        },
        "id": "eOwZOj8Tgs3X",
        "outputId": "aa65ae4d-d658-4236-e3a6-46084b3761fb"
      },
      "execution_count": 43,
      "outputs": [
        {
          "output_type": "stream",
          "name": "stdout",
          "text": [
            "Available categories: ['Debt or credit management' 'Payday loan' 'Virtual currency']\n"
          ]
        }
      ]
    },
    {
      "cell_type": "code",
      "source": [
        "X_train, X_test, y_train, y_test = train_test_split(\n",
        "    X, y, test_size=0.2, random_state=42\n",
        ")\n"
      ],
      "metadata": {
        "id": "uvdzWvJ3gs0N"
      },
      "execution_count": 44,
      "outputs": []
    },
    {
      "cell_type": "code",
      "source": [
        "models = {\n",
        "    \"Logistic Regression\": LogisticRegression(max_iter=500),\n",
        "    \"SVM (Linear Kernel)\": SVC(kernel='linear'),\n",
        "    \"Random Forest\": RandomForestClassifier(n_estimators=200, random_state=42)\n",
        "}\n"
      ],
      "metadata": {
        "id": "Dt6ZBN4zgsxV"
      },
      "execution_count": 45,
      "outputs": []
    },
    {
      "cell_type": "code",
      "source": [
        "metrics_results = []\n",
        "\n",
        "for name, model in models.items():\n",
        "    model.fit(X_train, y_train)\n",
        "    y_pred = model.predict(X_test)\n",
        "\n",
        "    accuracy = accuracy_score(y_test, y_pred)\n",
        "    precision = precision_score(y_test, y_pred, average='macro')\n",
        "    recall = recall_score(y_test, y_pred, average='macro')\n",
        "    f1 = f1_score(y_test, y_pred, average='macro')\n",
        "\n",
        "    metrics_results.append({\n",
        "        \"Model\": name,\n",
        "        \"Accuracy\": accuracy,\n",
        "        \"Precision\": precision,\n",
        "        \"Recall\": recall,\n",
        "        \"F1-score\": f1\n",
        "    })\n"
      ],
      "metadata": {
        "id": "IjQd1Ww_gsuU"
      },
      "execution_count": 48,
      "outputs": []
    },
    {
      "cell_type": "code",
      "source": [
        "import pandas as pd\n",
        "from sklearn.feature_extraction.text import TfidfVectorizer\n",
        "from sklearn.model_selection import train_test_split\n",
        "from sklearn.linear_model import LogisticRegression\n",
        "from sklearn.svm import SVC\n",
        "from sklearn.ensemble import RandomForestClassifier\n",
        "from sklearn.metrics import (\n",
        "    accuracy_score,\n",
        "    precision_score,\n",
        "    recall_score,\n",
        "    f1_score\n",
        ")\n",
        "import warnings\n",
        "warnings.filterwarnings('ignore')\n"
      ],
      "metadata": {
        "id": "I2mewz-Rgsrn"
      },
      "execution_count": 47,
      "outputs": []
    },
    {
      "cell_type": "code",
      "source": [
        "metrics_df = pd.DataFrame(metrics_results)\n",
        "metrics_df = metrics_df[['Model', 'Accuracy', 'Precision', 'Recall', 'F1-score']]\n",
        "print(metrics_df)\n"
      ],
      "metadata": {
        "colab": {
          "base_uri": "https://localhost:8080/"
        },
        "id": "r3UAOs0Ugr-q",
        "outputId": "994a15df-f2ed-4d27-9850-bf21d36b6c3e"
      },
      "execution_count": 49,
      "outputs": [
        {
          "output_type": "stream",
          "name": "stdout",
          "text": [
            "                 Model  Accuracy  Precision    Recall  F1-score\n",
            "0  Logistic Regression  0.950141   0.638147  0.622581  0.629338\n",
            "1  SVM (Linear Kernel)  0.951082   0.968993  0.736157  0.796520\n",
            "2        Random Forest  0.945437   0.967977  0.728914  0.791759\n"
          ]
        }
      ]
    },
    {
      "cell_type": "code",
      "source": [],
      "metadata": {
        "id": "q39nqAMpgrz7"
      },
      "execution_count": null,
      "outputs": []
    },
    {
      "cell_type": "code",
      "source": [],
      "metadata": {
        "id": "fNzSrMwEgrwg"
      },
      "execution_count": null,
      "outputs": []
    },
    {
      "cell_type": "code",
      "source": [],
      "metadata": {
        "id": "hiLvicCqgrt7"
      },
      "execution_count": null,
      "outputs": []
    },
    {
      "cell_type": "code",
      "source": [
        "file_path = \"/content/complaints-2025-09-28_08_42.csv\"\n",
        "df = pd.read_csv(file_path)\n",
        "df.head()\n"
      ],
      "metadata": {
        "colab": {
          "base_uri": "https://localhost:8080/",
          "height": 642
        },
        "id": "LN3SgvFkffud",
        "outputId": "483a19cd-2f57-4c93-eab0-dbf030358395"
      },
      "execution_count": 41,
      "outputs": [
        {
          "output_type": "execute_result",
          "data": {
            "text/plain": [
              "  Date received                    Product      Sub-product  \\\n",
              "0      07/24/25  Debt or credit management  Debt settlement   \n",
              "1      09/13/16                Payday loan              NaN   \n",
              "2      01/17/24  Debt or credit management  Debt settlement   \n",
              "3      05/27/15                Payday loan              NaN   \n",
              "4      12/17/15                Payday loan              NaN   \n",
              "\n",
              "                                      Issue  Sub-issue  \\\n",
              "0       Unauthorized withdrawals or charges        NaN   \n",
              "1  Charged fees or interest I didn't expect        NaN   \n",
              "2          Didn't provide services promised        NaN   \n",
              "3        Can't stop charges to bank account        NaN   \n",
              "4        Can't stop charges to bank account        NaN   \n",
              "\n",
              "                        Consumer complaint narrative  \\\n",
              "0                                                NaN   \n",
              "1                                                NaN   \n",
              "2  On XX/XX/XXXX XXXX XXXX  I made a debt settlem...   \n",
              "3                                                NaN   \n",
              "4  On Wednesday, XXXX XXXX, 2015, I agreed to a s...   \n",
              "\n",
              "                             Company public response  \\\n",
              "0                                                NaN   \n",
              "1  Company has responded to the consumer and the ...   \n",
              "2  Company believes the complaint is the result o...   \n",
              "3  Company believes it acted appropriately as aut...   \n",
              "4  Company believes the complaint is the result o...   \n",
              "\n",
              "                              Company State ZIP code            Tags  \\\n",
              "0        Clarity Debt Resolution, Inc    TX    76063             NaN   \n",
              "1               WELLS FARGO & COMPANY    FL    33026  Older American   \n",
              "2  Elite Financial Services, Inc (MA)    NY    132XX             NaN   \n",
              "3                      CASHCALL, INC.    VA    23231             NaN   \n",
              "4           ENOVA INTERNATIONAL, INC.    TX    75237             NaN   \n",
              "\n",
              "  Consumer consent provided? Submitted via Date sent to company  \\\n",
              "0                        NaN           Web             08/01/25   \n",
              "1       Consent not provided           Web             09/15/16   \n",
              "2           Consent provided           Web             01/17/24   \n",
              "3       Consent not provided           Web             06/01/15   \n",
              "4           Consent provided           Web             12/17/15   \n",
              "\n",
              "  Company response to consumer Timely response? Consumer disputed?  \\\n",
              "0      Closed with explanation              Yes                NaN   \n",
              "1      Closed with explanation              Yes                 No   \n",
              "2      Closed with explanation               No                NaN   \n",
              "3      Closed with explanation              Yes                Yes   \n",
              "4      Closed with explanation              Yes                 No   \n",
              "\n",
              "   Complaint ID  \n",
              "0      14856720  \n",
              "1       2110195  \n",
              "2       8165486  \n",
              "3       1393091  \n",
              "4       1699504  "
            ],
            "text/html": [
              "\n",
              "  <div id=\"df-79490829-e200-4578-bdcd-dd9b72068ec2\" class=\"colab-df-container\">\n",
              "    <div>\n",
              "<style scoped>\n",
              "    .dataframe tbody tr th:only-of-type {\n",
              "        vertical-align: middle;\n",
              "    }\n",
              "\n",
              "    .dataframe tbody tr th {\n",
              "        vertical-align: top;\n",
              "    }\n",
              "\n",
              "    .dataframe thead th {\n",
              "        text-align: right;\n",
              "    }\n",
              "</style>\n",
              "<table border=\"1\" class=\"dataframe\">\n",
              "  <thead>\n",
              "    <tr style=\"text-align: right;\">\n",
              "      <th></th>\n",
              "      <th>Date received</th>\n",
              "      <th>Product</th>\n",
              "      <th>Sub-product</th>\n",
              "      <th>Issue</th>\n",
              "      <th>Sub-issue</th>\n",
              "      <th>Consumer complaint narrative</th>\n",
              "      <th>Company public response</th>\n",
              "      <th>Company</th>\n",
              "      <th>State</th>\n",
              "      <th>ZIP code</th>\n",
              "      <th>Tags</th>\n",
              "      <th>Consumer consent provided?</th>\n",
              "      <th>Submitted via</th>\n",
              "      <th>Date sent to company</th>\n",
              "      <th>Company response to consumer</th>\n",
              "      <th>Timely response?</th>\n",
              "      <th>Consumer disputed?</th>\n",
              "      <th>Complaint ID</th>\n",
              "    </tr>\n",
              "  </thead>\n",
              "  <tbody>\n",
              "    <tr>\n",
              "      <th>0</th>\n",
              "      <td>07/24/25</td>\n",
              "      <td>Debt or credit management</td>\n",
              "      <td>Debt settlement</td>\n",
              "      <td>Unauthorized withdrawals or charges</td>\n",
              "      <td>NaN</td>\n",
              "      <td>NaN</td>\n",
              "      <td>NaN</td>\n",
              "      <td>Clarity Debt Resolution, Inc</td>\n",
              "      <td>TX</td>\n",
              "      <td>76063</td>\n",
              "      <td>NaN</td>\n",
              "      <td>NaN</td>\n",
              "      <td>Web</td>\n",
              "      <td>08/01/25</td>\n",
              "      <td>Closed with explanation</td>\n",
              "      <td>Yes</td>\n",
              "      <td>NaN</td>\n",
              "      <td>14856720</td>\n",
              "    </tr>\n",
              "    <tr>\n",
              "      <th>1</th>\n",
              "      <td>09/13/16</td>\n",
              "      <td>Payday loan</td>\n",
              "      <td>NaN</td>\n",
              "      <td>Charged fees or interest I didn't expect</td>\n",
              "      <td>NaN</td>\n",
              "      <td>NaN</td>\n",
              "      <td>Company has responded to the consumer and the ...</td>\n",
              "      <td>WELLS FARGO &amp; COMPANY</td>\n",
              "      <td>FL</td>\n",
              "      <td>33026</td>\n",
              "      <td>Older American</td>\n",
              "      <td>Consent not provided</td>\n",
              "      <td>Web</td>\n",
              "      <td>09/15/16</td>\n",
              "      <td>Closed with explanation</td>\n",
              "      <td>Yes</td>\n",
              "      <td>No</td>\n",
              "      <td>2110195</td>\n",
              "    </tr>\n",
              "    <tr>\n",
              "      <th>2</th>\n",
              "      <td>01/17/24</td>\n",
              "      <td>Debt or credit management</td>\n",
              "      <td>Debt settlement</td>\n",
              "      <td>Didn't provide services promised</td>\n",
              "      <td>NaN</td>\n",
              "      <td>On XX/XX/XXXX XXXX XXXX  I made a debt settlem...</td>\n",
              "      <td>Company believes the complaint is the result o...</td>\n",
              "      <td>Elite Financial Services, Inc (MA)</td>\n",
              "      <td>NY</td>\n",
              "      <td>132XX</td>\n",
              "      <td>NaN</td>\n",
              "      <td>Consent provided</td>\n",
              "      <td>Web</td>\n",
              "      <td>01/17/24</td>\n",
              "      <td>Closed with explanation</td>\n",
              "      <td>No</td>\n",
              "      <td>NaN</td>\n",
              "      <td>8165486</td>\n",
              "    </tr>\n",
              "    <tr>\n",
              "      <th>3</th>\n",
              "      <td>05/27/15</td>\n",
              "      <td>Payday loan</td>\n",
              "      <td>NaN</td>\n",
              "      <td>Can't stop charges to bank account</td>\n",
              "      <td>NaN</td>\n",
              "      <td>NaN</td>\n",
              "      <td>Company believes it acted appropriately as aut...</td>\n",
              "      <td>CASHCALL, INC.</td>\n",
              "      <td>VA</td>\n",
              "      <td>23231</td>\n",
              "      <td>NaN</td>\n",
              "      <td>Consent not provided</td>\n",
              "      <td>Web</td>\n",
              "      <td>06/01/15</td>\n",
              "      <td>Closed with explanation</td>\n",
              "      <td>Yes</td>\n",
              "      <td>Yes</td>\n",
              "      <td>1393091</td>\n",
              "    </tr>\n",
              "    <tr>\n",
              "      <th>4</th>\n",
              "      <td>12/17/15</td>\n",
              "      <td>Payday loan</td>\n",
              "      <td>NaN</td>\n",
              "      <td>Can't stop charges to bank account</td>\n",
              "      <td>NaN</td>\n",
              "      <td>On Wednesday, XXXX XXXX, 2015, I agreed to a s...</td>\n",
              "      <td>Company believes the complaint is the result o...</td>\n",
              "      <td>ENOVA INTERNATIONAL, INC.</td>\n",
              "      <td>TX</td>\n",
              "      <td>75237</td>\n",
              "      <td>NaN</td>\n",
              "      <td>Consent provided</td>\n",
              "      <td>Web</td>\n",
              "      <td>12/17/15</td>\n",
              "      <td>Closed with explanation</td>\n",
              "      <td>Yes</td>\n",
              "      <td>No</td>\n",
              "      <td>1699504</td>\n",
              "    </tr>\n",
              "  </tbody>\n",
              "</table>\n",
              "</div>\n",
              "    <div class=\"colab-df-buttons\">\n",
              "\n",
              "  <div class=\"colab-df-container\">\n",
              "    <button class=\"colab-df-convert\" onclick=\"convertToInteractive('df-79490829-e200-4578-bdcd-dd9b72068ec2')\"\n",
              "            title=\"Convert this dataframe to an interactive table.\"\n",
              "            style=\"display:none;\">\n",
              "\n",
              "  <svg xmlns=\"http://www.w3.org/2000/svg\" height=\"24px\" viewBox=\"0 -960 960 960\">\n",
              "    <path d=\"M120-120v-720h720v720H120Zm60-500h600v-160H180v160Zm220 220h160v-160H400v160Zm0 220h160v-160H400v160ZM180-400h160v-160H180v160Zm440 0h160v-160H620v160ZM180-180h160v-160H180v160Zm440 0h160v-160H620v160Z\"/>\n",
              "  </svg>\n",
              "    </button>\n",
              "\n",
              "  <style>\n",
              "    .colab-df-container {\n",
              "      display:flex;\n",
              "      gap: 12px;\n",
              "    }\n",
              "\n",
              "    .colab-df-convert {\n",
              "      background-color: #E8F0FE;\n",
              "      border: none;\n",
              "      border-radius: 50%;\n",
              "      cursor: pointer;\n",
              "      display: none;\n",
              "      fill: #1967D2;\n",
              "      height: 32px;\n",
              "      padding: 0 0 0 0;\n",
              "      width: 32px;\n",
              "    }\n",
              "\n",
              "    .colab-df-convert:hover {\n",
              "      background-color: #E2EBFA;\n",
              "      box-shadow: 0px 1px 2px rgba(60, 64, 67, 0.3), 0px 1px 3px 1px rgba(60, 64, 67, 0.15);\n",
              "      fill: #174EA6;\n",
              "    }\n",
              "\n",
              "    .colab-df-buttons div {\n",
              "      margin-bottom: 4px;\n",
              "    }\n",
              "\n",
              "    [theme=dark] .colab-df-convert {\n",
              "      background-color: #3B4455;\n",
              "      fill: #D2E3FC;\n",
              "    }\n",
              "\n",
              "    [theme=dark] .colab-df-convert:hover {\n",
              "      background-color: #434B5C;\n",
              "      box-shadow: 0px 1px 3px 1px rgba(0, 0, 0, 0.15);\n",
              "      filter: drop-shadow(0px 1px 2px rgba(0, 0, 0, 0.3));\n",
              "      fill: #FFFFFF;\n",
              "    }\n",
              "  </style>\n",
              "\n",
              "    <script>\n",
              "      const buttonEl =\n",
              "        document.querySelector('#df-79490829-e200-4578-bdcd-dd9b72068ec2 button.colab-df-convert');\n",
              "      buttonEl.style.display =\n",
              "        google.colab.kernel.accessAllowed ? 'block' : 'none';\n",
              "\n",
              "      async function convertToInteractive(key) {\n",
              "        const element = document.querySelector('#df-79490829-e200-4578-bdcd-dd9b72068ec2');\n",
              "        const dataTable =\n",
              "          await google.colab.kernel.invokeFunction('convertToInteractive',\n",
              "                                                    [key], {});\n",
              "        if (!dataTable) return;\n",
              "\n",
              "        const docLinkHtml = 'Like what you see? Visit the ' +\n",
              "          '<a target=\"_blank\" href=https://colab.research.google.com/notebooks/data_table.ipynb>data table notebook</a>'\n",
              "          + ' to learn more about interactive tables.';\n",
              "        element.innerHTML = '';\n",
              "        dataTable['output_type'] = 'display_data';\n",
              "        await google.colab.output.renderOutput(dataTable, element);\n",
              "        const docLink = document.createElement('div');\n",
              "        docLink.innerHTML = docLinkHtml;\n",
              "        element.appendChild(docLink);\n",
              "      }\n",
              "    </script>\n",
              "  </div>\n",
              "\n",
              "\n",
              "    <div id=\"df-7623eab7-e492-44dc-9397-87f4dac2ab68\">\n",
              "      <button class=\"colab-df-quickchart\" onclick=\"quickchart('df-7623eab7-e492-44dc-9397-87f4dac2ab68')\"\n",
              "                title=\"Suggest charts\"\n",
              "                style=\"display:none;\">\n",
              "\n",
              "<svg xmlns=\"http://www.w3.org/2000/svg\" height=\"24px\"viewBox=\"0 0 24 24\"\n",
              "     width=\"24px\">\n",
              "    <g>\n",
              "        <path d=\"M19 3H5c-1.1 0-2 .9-2 2v14c0 1.1.9 2 2 2h14c1.1 0 2-.9 2-2V5c0-1.1-.9-2-2-2zM9 17H7v-7h2v7zm4 0h-2V7h2v10zm4 0h-2v-4h2v4z\"/>\n",
              "    </g>\n",
              "</svg>\n",
              "      </button>\n",
              "\n",
              "<style>\n",
              "  .colab-df-quickchart {\n",
              "      --bg-color: #E8F0FE;\n",
              "      --fill-color: #1967D2;\n",
              "      --hover-bg-color: #E2EBFA;\n",
              "      --hover-fill-color: #174EA6;\n",
              "      --disabled-fill-color: #AAA;\n",
              "      --disabled-bg-color: #DDD;\n",
              "  }\n",
              "\n",
              "  [theme=dark] .colab-df-quickchart {\n",
              "      --bg-color: #3B4455;\n",
              "      --fill-color: #D2E3FC;\n",
              "      --hover-bg-color: #434B5C;\n",
              "      --hover-fill-color: #FFFFFF;\n",
              "      --disabled-bg-color: #3B4455;\n",
              "      --disabled-fill-color: #666;\n",
              "  }\n",
              "\n",
              "  .colab-df-quickchart {\n",
              "    background-color: var(--bg-color);\n",
              "    border: none;\n",
              "    border-radius: 50%;\n",
              "    cursor: pointer;\n",
              "    display: none;\n",
              "    fill: var(--fill-color);\n",
              "    height: 32px;\n",
              "    padding: 0;\n",
              "    width: 32px;\n",
              "  }\n",
              "\n",
              "  .colab-df-quickchart:hover {\n",
              "    background-color: var(--hover-bg-color);\n",
              "    box-shadow: 0 1px 2px rgba(60, 64, 67, 0.3), 0 1px 3px 1px rgba(60, 64, 67, 0.15);\n",
              "    fill: var(--button-hover-fill-color);\n",
              "  }\n",
              "\n",
              "  .colab-df-quickchart-complete:disabled,\n",
              "  .colab-df-quickchart-complete:disabled:hover {\n",
              "    background-color: var(--disabled-bg-color);\n",
              "    fill: var(--disabled-fill-color);\n",
              "    box-shadow: none;\n",
              "  }\n",
              "\n",
              "  .colab-df-spinner {\n",
              "    border: 2px solid var(--fill-color);\n",
              "    border-color: transparent;\n",
              "    border-bottom-color: var(--fill-color);\n",
              "    animation:\n",
              "      spin 1s steps(1) infinite;\n",
              "  }\n",
              "\n",
              "  @keyframes spin {\n",
              "    0% {\n",
              "      border-color: transparent;\n",
              "      border-bottom-color: var(--fill-color);\n",
              "      border-left-color: var(--fill-color);\n",
              "    }\n",
              "    20% {\n",
              "      border-color: transparent;\n",
              "      border-left-color: var(--fill-color);\n",
              "      border-top-color: var(--fill-color);\n",
              "    }\n",
              "    30% {\n",
              "      border-color: transparent;\n",
              "      border-left-color: var(--fill-color);\n",
              "      border-top-color: var(--fill-color);\n",
              "      border-right-color: var(--fill-color);\n",
              "    }\n",
              "    40% {\n",
              "      border-color: transparent;\n",
              "      border-right-color: var(--fill-color);\n",
              "      border-top-color: var(--fill-color);\n",
              "    }\n",
              "    60% {\n",
              "      border-color: transparent;\n",
              "      border-right-color: var(--fill-color);\n",
              "    }\n",
              "    80% {\n",
              "      border-color: transparent;\n",
              "      border-right-color: var(--fill-color);\n",
              "      border-bottom-color: var(--fill-color);\n",
              "    }\n",
              "    90% {\n",
              "      border-color: transparent;\n",
              "      border-bottom-color: var(--fill-color);\n",
              "    }\n",
              "  }\n",
              "</style>\n",
              "\n",
              "      <script>\n",
              "        async function quickchart(key) {\n",
              "          const quickchartButtonEl =\n",
              "            document.querySelector('#' + key + ' button');\n",
              "          quickchartButtonEl.disabled = true;  // To prevent multiple clicks.\n",
              "          quickchartButtonEl.classList.add('colab-df-spinner');\n",
              "          try {\n",
              "            const charts = await google.colab.kernel.invokeFunction(\n",
              "                'suggestCharts', [key], {});\n",
              "          } catch (error) {\n",
              "            console.error('Error during call to suggestCharts:', error);\n",
              "          }\n",
              "          quickchartButtonEl.classList.remove('colab-df-spinner');\n",
              "          quickchartButtonEl.classList.add('colab-df-quickchart-complete');\n",
              "        }\n",
              "        (() => {\n",
              "          let quickchartButtonEl =\n",
              "            document.querySelector('#df-7623eab7-e492-44dc-9397-87f4dac2ab68 button');\n",
              "          quickchartButtonEl.style.display =\n",
              "            google.colab.kernel.accessAllowed ? 'block' : 'none';\n",
              "        })();\n",
              "      </script>\n",
              "    </div>\n",
              "\n",
              "    </div>\n",
              "  </div>\n"
            ],
            "application/vnd.google.colaboratory.intrinsic+json": {
              "type": "dataframe",
              "variable_name": "df",
              "summary": "{\n  \"name\": \"df\",\n  \"rows\": 11681,\n  \"fields\": [\n    {\n      \"column\": \"Date received\",\n      \"properties\": {\n        \"dtype\": \"object\",\n        \"num_unique_values\": 1919,\n        \"samples\": [\n          \"12/23/13\",\n          \"01/26/24\",\n          \"04/12/17\"\n        ],\n        \"semantic_type\": \"\",\n        \"description\": \"\"\n      }\n    },\n    {\n      \"column\": \"Product\",\n      \"properties\": {\n        \"dtype\": \"category\",\n        \"num_unique_values\": 3,\n        \"samples\": [\n          \"Debt or credit management\",\n          \"Payday loan\",\n          \"Virtual currency\"\n        ],\n        \"semantic_type\": \"\",\n        \"description\": \"\"\n      }\n    },\n    {\n      \"column\": \"Sub-product\",\n      \"properties\": {\n        \"dtype\": \"category\",\n        \"num_unique_values\": 6,\n        \"samples\": [\n          \"Debt settlement\",\n          \"Credit repair services\",\n          \"International money transfer\"\n        ],\n        \"semantic_type\": \"\",\n        \"description\": \"\"\n      }\n    },\n    {\n      \"column\": \"Issue\",\n      \"properties\": {\n        \"dtype\": \"category\",\n        \"num_unique_values\": 17,\n        \"samples\": [\n          \"Unauthorized withdrawals or charges\",\n          \"Charged fees or interest I didn't expect\",\n          \"Problem with customer service\"\n        ],\n        \"semantic_type\": \"\",\n        \"description\": \"\"\n      }\n    },\n    {\n      \"column\": \"Sub-issue\",\n      \"properties\": {\n        \"dtype\": \"number\",\n        \"std\": null,\n        \"min\": null,\n        \"max\": null,\n        \"num_unique_values\": 0,\n        \"samples\": [],\n        \"semantic_type\": \"\",\n        \"description\": \"\"\n      }\n    },\n    {\n      \"column\": \"Consumer complaint narrative\",\n      \"properties\": {\n        \"dtype\": \"category\",\n        \"num_unique_values\": 5283,\n        \"samples\": [],\n        \"semantic_type\": \"\",\n        \"description\": \"\"\n      }\n    },\n    {\n      \"column\": \"Company public response\",\n      \"properties\": {\n        \"dtype\": \"category\",\n        \"num_unique_values\": 11,\n        \"samples\": [],\n        \"semantic_type\": \"\",\n        \"description\": \"\"\n      }\n    },\n    {\n      \"column\": \"Company\",\n      \"properties\": {\n        \"dtype\": \"category\",\n        \"num_unique_values\": 1054,\n        \"samples\": [],\n        \"semantic_type\": \"\",\n        \"description\": \"\"\n      }\n    },\n    {\n      \"column\": \"State\",\n      \"properties\": {\n        \"dtype\": \"category\",\n        \"num_unique_values\": 56,\n        \"samples\": [],\n        \"semantic_type\": \"\",\n        \"description\": \"\"\n      }\n    },\n    {\n      \"column\": \"ZIP code\",\n      \"properties\": {\n        \"dtype\": \"category\",\n        \"num_unique_values\": 5555,\n        \"samples\": [],\n        \"semantic_type\": \"\",\n        \"description\": \"\"\n      }\n    },\n    {\n      \"column\": \"Tags\",\n      \"properties\": {\n        \"dtype\": \"category\",\n        \"num_unique_values\": 3,\n        \"samples\": [],\n        \"semantic_type\": \"\",\n        \"description\": \"\"\n      }\n    },\n    {\n      \"column\": \"Consumer consent provided?\",\n      \"properties\": {\n        \"dtype\": \"category\",\n        \"num_unique_values\": 4,\n        \"samples\": [],\n        \"semantic_type\": \"\",\n        \"description\": \"\"\n      }\n    },\n    {\n      \"column\": \"Submitted via\",\n      \"properties\": {\n        \"dtype\": \"category\",\n        \"num_unique_values\": 5,\n        \"samples\": [],\n        \"semantic_type\": \"\",\n        \"description\": \"\"\n      }\n    },\n    {\n      \"column\": \"Date sent to company\",\n      \"properties\": {\n        \"dtype\": \"object\",\n        \"num_unique_values\": 1824,\n        \"samples\": [],\n        \"semantic_type\": \"\",\n        \"description\": \"\"\n      }\n    },\n    {\n      \"column\": \"Company response to consumer\",\n      \"properties\": {\n        \"dtype\": \"category\",\n        \"num_unique_values\": 6,\n        \"samples\": [],\n        \"semantic_type\": \"\",\n        \"description\": \"\"\n      }\n    },\n    {\n      \"column\": \"Timely response?\",\n      \"properties\": {\n        \"dtype\": \"category\",\n        \"num_unique_values\": 2,\n        \"samples\": [],\n        \"semantic_type\": \"\",\n        \"description\": \"\"\n      }\n    },\n    {\n      \"column\": \"Consumer disputed?\",\n      \"properties\": {\n        \"dtype\": \"category\",\n        \"num_unique_values\": 2,\n        \"samples\": [],\n        \"semantic_type\": \"\",\n        \"description\": \"\"\n      }\n    },\n    {\n      \"column\": \"Complaint ID\",\n      \"properties\": {\n        \"dtype\": \"number\",\n        \"std\": 5255083,\n        \"min\": 588718,\n        \"max\": 16207807,\n        \"num_unique_values\": 11681,\n        \"samples\": [],\n        \"semantic_type\": \"\",\n        \"description\": \"\"\n      }\n    }\n  ]\n}"
            }
          },
          "metadata": {},
          "execution_count": 41
        }
      ]
    }
  ]
}